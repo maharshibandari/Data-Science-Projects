{
 "cells": [
  {
   "cell_type": "code",
   "execution_count": 1,
   "id": "cedbd4dc",
   "metadata": {},
   "outputs": [],
   "source": [
    "import requests"
   ]
  },
  {
   "cell_type": "code",
   "execution_count": 2,
   "id": "35e5ee58",
   "metadata": {},
   "outputs": [],
   "source": [
    "import json"
   ]
  },
  {
   "cell_type": "code",
   "execution_count": 3,
   "id": "9cb51164",
   "metadata": {},
   "outputs": [],
   "source": [
    "# NOTE: you must manually set API_KEY below using information retrieved from your IBM Cloud account.\n",
    "API_KEY = \"QsRmQ8b_1_nqvAY9fH8OQOOYGqzQIQbGRCnP1mJWt-zU\""
   ]
  },
  {
   "cell_type": "code",
   "execution_count": 4,
   "id": "4e0bbac5",
   "metadata": {},
   "outputs": [],
   "source": [
    "token_response = requests.post('https://iam.cloud.ibm.com/identity/token', data={\"apikey\":\n",
    " API_KEY, \"grant_type\": 'urn:ibm:params:oauth:grant-type:apikey'})"
   ]
  },
  {
   "cell_type": "code",
   "execution_count": 5,
   "id": "f51a050b",
   "metadata": {},
   "outputs": [],
   "source": [
    "mltoken = token_response.json()[\"access_token\"]"
   ]
  },
  {
   "cell_type": "code",
   "execution_count": 6,
   "id": "6aebe385",
   "metadata": {},
   "outputs": [],
   "source": [
    "header = {'Content-Type': 'application/json', 'Authorization': 'Bearer ' + mltoken}"
   ]
  },
  {
   "cell_type": "code",
   "execution_count": 7,
   "id": "37696610",
   "metadata": {},
   "outputs": [],
   "source": [
    "# NOTE: manually define and pass the array(s) of values to be scored in the next line\n",
    "payload_scoring = {\"input_data\": [{\"field\": [[\"year\",\"do\",\"ph\",\"co\",\"bod\",\"na\",\"tc\"]], \n",
    "                                   \"values\": [[ 2014, 7.5, 8, 198, 1.8965, 1.5, 29]]}]}"
   ]
  },
  {
   "cell_type": "code",
   "execution_count": 8,
   "id": "df6aec23",
   "metadata": {},
   "outputs": [],
   "source": [
    "response_scoring = requests.post('https://us-south.ml.cloud.ibm.com/ml/v4/deployments/d1c8af28-aa93-4c4a-a561-41e75889668c/predictions?version=2022-12-03', \n",
    "                                 json=payload_scoring,\n",
    " headers={'Authorization': 'Bearer ' + mltoken})"
   ]
  },
  {
   "cell_type": "code",
   "execution_count": 9,
   "id": "71434041",
   "metadata": {},
   "outputs": [
    {
     "name": "stdout",
     "output_type": "stream",
     "text": [
      "Scoring response\n"
     ]
    }
   ],
   "source": [
    "print(\"Scoring response\")"
   ]
  },
  {
   "cell_type": "code",
   "execution_count": 10,
   "id": "e91f8331",
   "metadata": {},
   "outputs": [],
   "source": [
    "predictions = response_scoring.json()"
   ]
  },
  {
   "cell_type": "code",
   "execution_count": 11,
   "id": "5ec2532e",
   "metadata": {},
   "outputs": [
    {
     "name": "stdout",
     "output_type": "stream",
     "text": [
      "{'predictions': [{'fields': ['prediction'], 'values': [[71.176]]}]}\n"
     ]
    }
   ],
   "source": [
    "print (predictions)"
   ]
  }
 ],
 "metadata": {
  "kernelspec": {
   "display_name": "Python 3 (ipykernel)",
   "language": "python",
   "name": "python3"
  },
  "language_info": {
   "codemirror_mode": {
    "name": "ipython",
    "version": 3
   },
   "file_extension": ".py",
   "mimetype": "text/x-python",
   "name": "python",
   "nbconvert_exporter": "python",
   "pygments_lexer": "ipython3",
   "version": "3.10.9"
  }
 },
 "nbformat": 4,
 "nbformat_minor": 5
}
